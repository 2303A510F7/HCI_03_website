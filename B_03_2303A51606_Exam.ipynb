{
  "nbformat": 4,
  "nbformat_minor": 0,
  "metadata": {
    "colab": {
      "provenance": []
    },
    "kernelspec": {
      "name": "python3",
      "display_name": "Python 3"
    },
    "language_info": {
      "name": "python"
    }
  },
  "cells": [
    {
      "cell_type": "markdown",
      "source": [
        "##HALL TICKET - 2303A51097\n",
        "##B-02\n",
        "##AIR QUALITY\n",
        "##PREDICTION OF AIR QUALITY IN ITALIAN CITIES.\n",
        "##1.identify the top 5 reasons for air quality\n",
        "##2.identify the day of week with most air quality issues\n",
        "##3.find the max and min air quality levels\n",
        "##4.identify the highest and lowest temperatures of air quality\n",
        "##5. apply either classification model or clustering model to evaluate the dataset give the python code for this"
      ],
      "metadata": {
        "id": "AfUsjzv5Qpv1"
      }
    },
    {
      "cell_type": "code",
      "source": [
        "import pandas as pd\n",
        "from sklearn.cluster import KMeans\n",
        "from sklearn.preprocessing import StandardScaler"
      ],
      "metadata": {
        "id": "H5F3a4ogRRM3"
      },
      "execution_count": 16,
      "outputs": []
    },
    {
      "cell_type": "code",
      "source": [
        "# Load the dataset\n",
        "file_path = \"AirQualityUCI.csv\"  # Update this with the correct path to your file\n",
        "data = pd.read_csv(file_path, sep=';')"
      ],
      "metadata": {
        "id": "EHrCPPskdOxA"
      },
      "execution_count": 17,
      "outputs": []
    },
    {
      "cell_type": "code",
      "source": [
        "# Data Cleaning\n",
        "# Drop irrelevant columns\n",
        "data_cleaned = data.drop(columns=[\"Unnamed: 15\", \"Unnamed: 16\"], errors='ignore')\n",
        "\n",
        "# Replace commas with dots in numeric columns and convert them to numeric types\n",
        "columns_to_clean = [\"CO(GT)\", \"C6H6(GT)\", \"T\", \"RH\", \"AH\"]\n",
        "for col in columns_to_clean:\n",
        "    data_cleaned[col] = data_cleaned[col].str.replace(',', '.', regex=False).astype(float, errors='ignore')\n",
        "\n",
        "# Remove rows with significant missing data\n",
        "data_cleaned = data_cleaned.dropna()\n",
        "\n",
        "# Convert Date to datetime and add a Day of Week column\n",
        "data_cleaned[\"Date\"] = pd.to_datetime(data_cleaned[\"Date\"], format=\"%d/%m/%Y\", errors='coerce')\n",
        "data_cleaned[\"Day_of_Week\"] = data_cleaned[\"Date\"].dt.day_name()\n",
        "\n",
        "# 1. Identify the top 5 reasons for air quality issues\n",
        "numeric_columns = data_cleaned.select_dtypes(include=['float64', 'int64']).columns\n",
        "correlations = data_cleaned[numeric_columns].corr()\n",
        "top_5_reasons = correlations[\"CO(GT)\"].abs().sort_values(ascending=False).iloc[1:6]\n",
        "print(\"Top 5 reasons for air quality issues:\")\n",
        "print(top_5_reasons)\n",
        "\n",
        "# 2. Identify the day of the week with the most air quality issues\n",
        "day_with_most_issues = data_cleaned.groupby(\"Day_of_Week\")[\"CO(GT)\"].mean().sort_values(ascending=False)\n",
        "print(\"\\nDay of the week with most air quality issues:\")\n",
        "print(day_with_most_issues)\n",
        "\n",
        "# 3. Find the max and min air quality levels\n",
        "max_air_quality = data_cleaned[\"CO(GT)\"].max()\n",
        "min_air_quality = data_cleaned[\"CO(GT)\"].min()\n",
        "print(\"\\nMaximum air quality level (CO(GT)):\", max_air_quality)\n",
        "print(\"Minimum air quality level (CO(GT)):\", min_air_quality)\n",
        "\n",
        "# 4. Identify the highest and lowest temperatures for air quality\n",
        "max_temperature = data_cleaned.loc[data_cleaned[\"CO(GT)\"].idxmax(), \"T\"]\n",
        "min_temperature = data_cleaned.loc[data_cleaned[\"CO(GT)\"].idxmin(), \"T\"]\n",
        "print(\"\\nTemperature associated with maximum air quality:\", max_temperature)\n",
        "print(\"Temperature associated with minimum air quality:\", min_temperature)\n",
        "\n",
        "# 5. Clustering to evaluate air quality patterns\n",
        "# Select relevant features for clustering\n",
        "features = [\"CO(GT)\", \"NO2(GT)\", \"NOx(GT)\", \"NMHC(GT)\", \"T\", \"RH\"]\n",
        "data_for_clustering = data_cleaned[features]\n",
        "\n",
        "# Standardize the features for clustering\n",
        "scaler = StandardScaler()\n",
        "scaled_data = scaler.fit_transform(data_for_clustering)\n",
        "\n",
        "# Apply K-Means Clustering\n",
        "kmeans = KMeans(n_clusters=3, random_state=42)\n",
        "data_cleaned[\"Cluster\"] = kmeans.fit_predict(scaled_data)\n",
        "\n",
        "# Analyze cluster characteristics\n",
        "cluster_centers = pd.DataFrame(scaler.inverse_transform(kmeans.cluster_centers_), columns=features)\n",
        "cluster_distribution = data_cleaned[\"Cluster\"].value_counts()\n",
        "\n",
        "print(\"\\nCluster Distribution:\")\n",
        "print(cluster_distribution)\n",
        "\n",
        "print(\"\\nCluster Characteristics (Cluster Centers):\")\n",
        "print(cluster_centers)\n"
      ],
      "metadata": {
        "colab": {
          "base_uri": "https://localhost:8080/"
        },
        "id": "OmetwKLhdQ2O",
        "outputId": "9c498ca7-b1a9-4fb1-d921-eda5af8e2ca2"
      },
      "execution_count": 18,
      "outputs": [
        {
          "output_type": "stream",
          "name": "stdout",
          "text": [
            "Top 5 reasons for air quality issues:\n",
            "NO2(GT)         0.671127\n",
            "NOx(GT)         0.526451\n",
            "NMHC(GT)        0.128351\n",
            "PT08.S3(NOx)    0.089981\n",
            "PT08.S5(O3)     0.080310\n",
            "Name: CO(GT), dtype: float64\n",
            "\n",
            "Day of the week with most air quality issues:\n",
            "Day_of_Week\n",
            "Friday      -24.583259\n",
            "Saturday    -27.126414\n",
            "Monday      -30.063820\n",
            "Sunday      -35.432292\n",
            "Thursday    -35.806176\n",
            "Tuesday     -41.773864\n",
            "Wednesday   -44.917647\n",
            "Name: CO(GT), dtype: float64\n",
            "\n",
            "Maximum air quality level (CO(GT)): 11.9\n",
            "Minimum air quality level (CO(GT)): -200.0\n",
            "\n",
            "Temperature associated with maximum air quality: 12.4\n",
            "Temperature associated with minimum air quality: 10.1\n",
            "\n",
            "Cluster Distribution:\n",
            "Cluster\n",
            "1    6995\n",
            "0    1996\n",
            "2     366\n",
            "Name: count, dtype: int64\n",
            "\n",
            "Cluster Characteristics (Cluster Centers):\n",
            "       CO(GT)     NO2(GT)     NOx(GT)    NMHC(GT)           T          RH\n",
            "0 -159.372695 -145.002505 -142.587174 -192.561623   20.168136   50.667685\n",
            "1    0.621658  114.212152  251.155969 -149.041029   17.789850   48.825161\n",
            "2  -17.268852   94.562842  288.297814 -168.609290 -200.000000 -200.000000\n"
          ]
        }
      ]
    }
  ]
}